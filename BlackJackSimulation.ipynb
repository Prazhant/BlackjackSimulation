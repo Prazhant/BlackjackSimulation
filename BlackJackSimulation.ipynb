{
 "cells": [
  {
   "cell_type": "code",
   "execution_count": 555,
   "metadata": {},
   "outputs": [],
   "source": [
    "import numpy as np\n",
    "import random\n",
    "import numpy as np \n",
    "import matplotlib.pyplot as plt \n",
    "import pandas as pd\n",
    "#     creating standard deck, a=1, j,q,k=10\n",
    "deck=np.array([1,2,3,4,5,6,7,8,9,10,10,10,10])\n",
    "goodCards=[1,7,8,9,10]\n",
    "goodCardsForDealer=[1,7,10]"
   ]
  },
  {
   "cell_type": "code",
   "execution_count": 556,
   "metadata": {},
   "outputs": [],
   "source": [
    "def getSoftCount(hardCount,aces):\n",
    "    if hardCount<=11:\n",
    "        return hardCount + 10*aces\n",
    "    return hardCount \n",
    "\n",
    "def handleMoreThanTwoCards(hardCount,softCount,dealersFaceUpCard):\n",
    "    if hardCount==softCount:\n",
    "        if hardCount<=11 or (hardCount==12 and dealersFaceUpCard <=3) or dealersFaceUpCard in [1,7,8,9,10]:\n",
    "            return 'Hit'\n",
    "        return 'Stay'\n",
    "    \n",
    "    if softCount<=17:\n",
    "        return 'Hit'\n",
    "\n",
    "    if softCount==18 and dealersFaceUpCard in [1,9,10]:\n",
    "        return 'Hit'\n",
    "    return 'Stay'\n",
    "\n",
    "def handleSameCards(hand,hardCount,softCount,dealersFaceUpCard,splitEights=True,splitFives=False):\n",
    "    card= hand[0]\n",
    "    if splitEights:\n",
    "        if card==1 or (card==8 and dealersFaceUpCard!=1):\n",
    "            return 'Split'\n",
    "    \n",
    "    if card in [2,3,7] and dealersFaceUpCard not in [1,8,9,10]:\n",
    "        return 'Split'\n",
    "\n",
    "    if card==6 and dealersFaceUpCard not in goodCards:\n",
    "        return 'Split'\n",
    "    \n",
    "    if card==5 and splitFives:\n",
    "        return 'Split'\n",
    "\n",
    "    if card==4 and dealersFaceUpCard in [5,6]:\n",
    "        return 'Split'\n",
    "    return 'Hit'\n",
    "\n",
    "def handleSameHardSoftHands(hand,hardCount,softCount,dealersFaceUpCard,hardElven=True):\n",
    "    if hardElven and hardCount==11 and dealersFaceUpCard!=1:\n",
    "        return 'Double'\n",
    "\n",
    "    if hardCount==10 and dealersFaceUpCard not in [1,10]:\n",
    "        return 'Double'\n",
    "\n",
    "    if hardCount==9 and dealersFaceUpCard not in ([2]+ goodCards):\n",
    "        return 'Double'\n",
    "\n",
    "    if hardCount<=11:\n",
    "        return 'Hit'\n",
    "\n",
    "    if hardElven and hardCount==12 and dealersFaceUpCard <=3:\n",
    "#         print(\"hard elvn on, hitting\")\n",
    "        return 'Hit'\n",
    "\n",
    "    if dealersFaceUpCard in goodCards:\n",
    "        return 'Hit'\n",
    "\n",
    "    return 'Stay'\n",
    "\n",
    "def handleRest(hand,hardCount,softCount,dealersFaceUpCard):\n",
    "    if softCount==18:\n",
    "        if dealersFaceUpCard not in ([2]+goodCards):\n",
    "            return 'Double'\n",
    "\n",
    "        if dealersFaceUpCard in [2,7,8]:\n",
    "            return 'Stay'\n",
    "\n",
    "    if softCount==17 and dealersFaceUpCard in [3,4,5,6]:\n",
    "        return 'Double'\n",
    "\n",
    "    if softCount in [15,16] and dealersFaceUpCard in [4,5,6]:\n",
    "        return 'Double'\n",
    "\n",
    "    if softCount in [13,14] and dealersFaceUpCard in [5,6]:\n",
    "        return 'Double'\n",
    "\n",
    "    return 'Hit'\n",
    "\n",
    "def handleTwoCards(hand,hardCount,softCount,dealersFaceUpCard,hardElven,splitEights=True,splitFives=False):\n",
    "    if hand[0]==hand[1]:\n",
    "        return handleSameCards(hand,hardCount,softCount,dealersFaceUpCard,splitEights,splitFives)\n",
    "\n",
    "    if hardCount==softCount:\n",
    "        return handleSameHardSoftHands(hand,hardCount,softCount,dealersFaceUpCard,hardElven)\n",
    " \n",
    "    return handleRest(hand,hardCount,softCount,dealersFaceUpCard)\n",
    "        \n",
    "    \n",
    "def whatShouldIDo(hand, dealersFaceUpCard,hardElven=True,splitEights=True,splitFives=False):\n",
    "    hardCount=sum(hand)\n",
    "    noOfCards=len(hand)\n",
    "    acesCount= 1*(1 in hand)\n",
    "    softCount=getSoftCount(hardCount,acesCount)\n",
    "    \n",
    "    if noOfCards<2:\n",
    "        return 'Not enough cards'\n",
    "\n",
    "    if noOfCards==2 and softCount==21:\n",
    "        return 'Jackpot!!! Dont forget to Tip'\n",
    "    \n",
    "    \n",
    "    if softCount>=19 or hardCount>=17 :\n",
    "        return 'Stay'\n",
    "    \n",
    "    if hand==[9,9] and dealersFaceUpCard not in goodCardsForDealer:\n",
    "        return 'Split'\n",
    "     \n",
    "    if noOfCards>2:\n",
    "        return handleMoreThanTwoCards(hardCount,softCount,dealersFaceUpCard)\n",
    "    \n",
    "    if noOfCards==2:\n",
    "        return handleTwoCards(hand,hardCount,softCount,dealersFaceUpCard,hardElven,splitEights,splitFives)\n",
    "        "
   ]
  },
  {
   "cell_type": "code",
   "execution_count": 557,
   "metadata": {},
   "outputs": [],
   "source": [
    "#Test code \n",
    "\n",
    "assert whatShouldIDo([1,5], 1) == \"Hit\"\n",
    "assert whatShouldIDo([2,5,3], 1) == \"Hit\"\n",
    "assert whatShouldIDo([5,5,2], 1) == \"Hit\"\n",
    "assert whatShouldIDo([2,8,4],5) ==\"Stay\"\n",
    "\n",
    "assert whatShouldIDo([8,8], 5) == \"Split\"\n",
    "assert whatShouldIDo([5,5], 5) == \"Hit\""
   ]
  },
  {
   "cell_type": "code",
   "execution_count": 558,
   "metadata": {},
   "outputs": [],
   "source": [
    "def drawOpeningRound(handPlayer, cardCasino,hard_stay,deck):\n",
    "    if handPlayer is None:\n",
    "        handPlayer=[random.choice(deck), random.choice(deck)]\n",
    "    \n",
    "    #Turning on hard stay for split aces    \n",
    "    if handPlayer==[1]:\n",
    "        hard_stay==True\n",
    "        \n",
    "    #Adding a 2nd card to hand after splits    \n",
    "    while len(handPlayer)<2:\n",
    "        handPlayer.append(random.choice(deck))\n",
    "        \n",
    "    #Creating dealer card, and dealer cards\n",
    "    if cardCasino is None:\n",
    "        cardCasino=random.choice(deck)\n",
    "    \n",
    "    return handPlayer,cardCasino,hard_stay\n",
    "\n",
    "\n",
    "def checkForDealerJackpot(casinoCards,bet):\n",
    "    casinoCards.append(random.choice(deck))\n",
    "    if 1 in (casinoCards):\n",
    "#         print(casinoCards)\n",
    "        if sum(casinoCards)==11:\n",
    "            return 0\n",
    "    return bet*1.5\n",
    "\n",
    "def processSplit(bet, handPlayer, cardCasino, hard_code,hardElvn,splitEights,splitFives):\n",
    "    if len(handPlayer)==2:     \n",
    "        if handPlayer[0]==handPlayer[1]:\n",
    "            res = play_blackjack(bet=bet, handPlayer=[handPlayer[0]], cardCasino=cardCasino, hard_code=hard_code,hardElvn=hardElvn,splitEights=splitEights,splitFives=splitFives)\n",
    "            res+= play_blackjack(bet=bet, handPlayer=[handPlayer[0]], cardCasino=cardCasino, hard_code=hard_code,hardElvn=hardElvn,splitEights=splitEights,splitFives=splitFives)\n",
    "            return res \n",
    "        else:\n",
    "            return play_blackjack(bet=bet, handPlayer= handPlayer, cardCasino=cardCasino,hardElvn=hardElvn,splitEights=splitEights,splitFives=splitFives)\n",
    "    else:\n",
    "        return play_blackjack(bet=bet, handPlayer=handPlayer, cardCasino=cardCasino,hardElvn=hardElvn,splitEights=splitEights,splitFives=splitFives)\n",
    "    \n",
    "def playDealerRound(bet, handPlayer, cardCasino, hard_code,casinoCards):\n",
    "    while True:\n",
    "        #Plays out the blackjack hand from dealer's side\n",
    "        #Give dealer extra card if loop hasn't broken\n",
    "        casinoCards.append(random.choice(deck))\n",
    "\n",
    "\n",
    "        #Keep track of sum of dealer's cards\n",
    "#         print(\"in dealer cards\",casinoCards)\n",
    "        scoreCasino= sum(casinoCards)\n",
    "\n",
    "        #Keep track of soft score if dealer has an ace\n",
    "\n",
    "        scoreSoft= scoreCasino\n",
    "        if scoreCasino<=11 and 1 in casinoCards:\n",
    "            scoreSoft+=10\n",
    "\n",
    "        #If dealer gets blackjack you lose even if you have 21\n",
    "        if len(casinoCards)==2 and scoreSoft==21:\n",
    "            return 0-bet\n",
    "\n",
    "        #Keeps track of player's score     \n",
    "        scorePlayer=sum(handPlayer)\n",
    "\n",
    "        #Uses soft score if that is better for player\n",
    "        if scorePlayer<=11 and 1 in handPlayer:\n",
    "            scorePlayer+=10\n",
    "\n",
    "\n",
    "        #Dealer stays on all 17s\n",
    "        if scoreSoft>=17:\n",
    "\n",
    "            #If dealer bust, player wins bet\n",
    "            if scoreSoft>21 or scorePlayer>scoreSoft:\n",
    "                return bet\n",
    "\n",
    "            #Tie means no money changes hands\n",
    "            if scorePlayer==scoreSoft:\n",
    "                return 0\n",
    "\n",
    "            #If player has lower, player loses bet\n",
    "            if scorePlayer<scoreSoft:\n",
    "                return 0 - bet\n",
    "\n",
    "def handleSecondHandOnwards(bet, handPlayer, cardCasino, hard_code,hardElvn,splitEights,splitFives):\n",
    "    if hard_code=='Hit':\n",
    "        handPlayer.append(random.choice(deck))\n",
    "        return play_blackjack(bet, handPlayer, cardCasino, hard_code= None,hardElvn=hardElvn,splitEights=splitEights,splitFives=splitFives)\n",
    "\n",
    "    if hard_code=='Double':\n",
    "        if len(handPlayer)==2:\n",
    "            handPlayer.append(random.choice(deck))\n",
    "            bet= bet*2\n",
    "            if sum(handPlayer)>21:\n",
    "                return 0 - bet\n",
    "        else:\n",
    "            return 'Double Not Possible'\n",
    "\n",
    "    if hard_code=='Split':\n",
    "        processSplit(bet, handPlayer, cardCasino, hard_code,hardElvn,splitEights,splitFives)\n",
    "\n",
    "def handleFirstRound(bet, handPlayer, cardCasino, hard_code,casinoCards,hardElvn,splitEights,splitFives):\n",
    "#     print(\"handPlayer:\", handPlayer)\n",
    "#     print(\"cardCasino:\", cardCasino)\n",
    "#     print(\"hard_code:\", hard_code)\n",
    "#     print(\"what should i do:\", whatShouldIDo(handPlayer, cardCasino))\n",
    "    while whatShouldIDo(handPlayer, cardCasino,hardElvn,splitEights,splitFives) == 'Hit':\n",
    "        #Adding one card for every hit\n",
    "        handPlayer.append(random.choice(deck))\n",
    "#         print(\"what should i do after hit:\", whatShouldIDo(handPlayer, cardCasino))\n",
    "#         print(handPlayer)\n",
    "        #Player loses bet if hand goes above 21\n",
    "        if sum(handPlayer)>21:\n",
    "            return 0- bet\n",
    "\n",
    "        \n",
    "        \n",
    "        #If player Doubles\n",
    "\n",
    "    if whatShouldIDo(handPlayer, cardCasino,hardElvn,splitEights,splitFives)=='Double':\n",
    "        #He gets exactly one extra card and the bet size is doubled\n",
    "        handPlayer.append(random.choice(deck))\n",
    "        bet= bet * 2\n",
    "        if sum(handPlayer)>21:\n",
    "            return 0- bet\n",
    "\n",
    "        #If player Splits\n",
    "\n",
    "    if whatShouldIDo(handPlayer, cardCasino,hardElvn,splitEights,splitFives)== 'Split':\n",
    "        #Runs the sim twice, as different hands, slightly less variance than real life, but it's okay\n",
    "        res= play_blackjack(bet=bet, handPlayer=[handPlayer[0]], cardCasino=cardCasino,hardElvn=hardElvn,splitEights=splitEights,splitFives=splitFives) \n",
    "        res+= play_blackjack(bet=bet, handPlayer=[handPlayer[0]], cardCasino=cardCasino,hardElvn=hardElvn,splitEights=splitEights,splitFives=splitFives)\n",
    "        return res\n",
    "    \n",
    "    return playDealerRound(bet, handPlayer, cardCasino, hard_code,casinoCards)\n",
    "\n",
    "\n",
    "    \n",
    "def play_blackjack(bet=10, handPlayer=None, cardCasino=None, hard_code= None,hardElvn=True,splitEights=True,splitFives=False):    \n",
    "    hard_stay=False\n",
    "    handPlayer,cardCasino,hard_stay=drawOpeningRound(handPlayer, cardCasino,hard_stay,deck)\n",
    "    casinoCards=[cardCasino]\n",
    "    \n",
    "    \n",
    "    #If hard stay condition is false\n",
    "    if hard_stay==False:\n",
    "        \n",
    "        #Seeing if player hit blackjack\n",
    "        if whatShouldIDo(handPlayer, cardCasino,hardElvn,splitEights,splitFives) == 'Jackpot!!! Dont forget to Tip':\n",
    "            return checkForDealerJackpot(casinoCards,bet)\n",
    "        \n",
    "        if hard_code is not None:\n",
    "#             print(\"in second round\")\n",
    "            return handleSecondHandOnwards(bet, handPlayer, cardCasino, hard_code,hardElvn,splitEights,splitFives)\n",
    "        else:\n",
    "#             print(\"in first round\")\n",
    "            return handleFirstRound(bet, handPlayer, cardCasino, hard_code,casinoCards,hardElvn,splitEights,splitFives)\n",
    "\n",
    "    \n",
    "    if hard_stay==True:\n",
    "        \n",
    "        return playDealerRound(bet, handPlayer, cardCasino, hard_code,casinoCards)\n",
    "           "
   ]
  },
  {
   "cell_type": "code",
   "execution_count": 559,
   "metadata": {},
   "outputs": [],
   "source": [
    "def testSimulationOfBlackJack(rounds=1000, player_hand=None, dealer_card=None, bet=10, hard_c=4,hardElvn=True,splitEights=True,splitFives=False):\n",
    "    overAllOutcome=0\n",
    "    res=[]\n",
    "    for i in range(rounds):\n",
    "        overAllOutcome+= play_blackjack(bet=bet, handPlayer=player_hand, cardCasino=dealer_card, hardElvn=hardElvn,splitEights=splitEights,splitFives=splitFives)\n",
    "    return overAllOutcome"
   ]
  },
  {
   "cell_type": "code",
   "execution_count": 560,
   "metadata": {},
   "outputs": [],
   "source": [
    "def simulateBlackJack(n_hands=50_000, bet=10, hard_c=4,hardElvn=True):\n",
    "    pnl=0\n",
    "    for i in range(n_hands):\n",
    "        pnl+= play_blackjack(bet=bet,hardElvn=hardElvn)\n",
    "        \n",
    "    return pnl"
   ]
  },
  {
   "cell_type": "code",
   "execution_count": 561,
   "metadata": {},
   "outputs": [
    {
     "data": {
      "text/plain": [
       "<AxesSubplot:xlabel='Type', ylabel='Score'>"
      ]
     },
     "execution_count": 561,
     "metadata": {},
     "output_type": "execute_result"
    },
    {
     "data": {
      "image/png": "[encoded data removed]",
      "text/plain": [
       "<Figure size 432x288 with 1 Axes>"
      ]
     },
     "metadata": {
      "needs_background": "light"
     },
     "output_type": "display_data"
    }
   ],
   "source": [
    "df = pd.DataFrame(columns=['Type','Score'])\n",
    "\n",
    "for i in range(1,1000):\n",
    "    withoutElvn = testSimulationOfBlackJack(n_hands=100,player_h=[6,5],dealer_c=None, bet=1, hardElvn=False)\n",
    "    withElvn = testSimulationOfBlackJack(n_hands=100,player_h=[6,5],dealer_c=None, bet=1, hardElvn=True)\n",
    "    df2=pd.DataFrame({\"Type\":[\"Doubling Down on 11\"],\n",
    "                    \"Score\":[withElvn]})\n",
    "    df3=pd.DataFrame({\"Type\":[\"Not Doubling Down on 11\"],\n",
    "                    \"Score\":[withoutElvn]})\n",
    "    df=df.append(df3)\n",
    "    df=df.append(df2)\n",
    "\n",
    "import seaborn as sns\n",
    "sns.boxplot(x=df[\"Type\"], y=df[\"Score\"])\n"
   ]
  },
  {
   "cell_type": "code",
   "execution_count": 562,
   "metadata": {},
   "outputs": [
    {
     "data": {
      "text/plain": [
       "<AxesSubplot:xlabel='Type', ylabel='Score'>"
      ]
     },
     "execution_count": 562,
     "metadata": {},
     "output_type": "execute_result"
    },
    {
     "data": {
      "image/png": "[encoded data removed]",
      "text/plain": [
       "<Figure size 432x288 with 1 Axes>"
      ]
     },
     "metadata": {
      "needs_background": "light"
     },
     "output_type": "display_data"
    }
   ],
   "source": [
    "df = pd.DataFrame(columns=['Type','Score'])\n",
    "\n",
    "for i in range(1,1000):\n",
    "    withoutSplits = testSimulationOfBlackJack(n_hands=100,player_h=[8,8],dealer_c=None, bet=1, splitEights=False)\n",
    "    withSplits = testSimulationOfBlackJack(n_hands=100,player_h=[8,8],dealer_c=None, bet=1, splitEights=True)\n",
    "    df2=pd.DataFrame({\"Type\":[\"Splitting on eights\"],\n",
    "                    \"Score\":[withSplits]})\n",
    "    df3=pd.DataFrame({\"Type\":[\"Not Splitting on eights\"],\n",
    "                    \"Score\":[withoutSplits]})\n",
    "    df=df.append(df3)\n",
    "    df=df.append(df2)\n",
    "\n",
    "import seaborn as sns\n",
    "sns.boxplot(x=df[\"Type\"], y=df[\"Score\"])"
   ]
  },
  {
   "cell_type": "code",
   "execution_count": 569,
   "metadata": {},
   "outputs": [
    {
     "data": {
      "text/plain": [
       "<AxesSubplot:xlabel='Type', ylabel='Score'>"
      ]
     },
     "execution_count": 569,
     "metadata": {},
     "output_type": "execute_result"
    },
    {
     "data": {
      "image/png": "[encoded data removed]",
      "text/plain": [
       "<Figure size 432x288 with 1 Axes>"
      ]
     },
     "metadata": {
      "needs_background": "light"
     },
     "output_type": "display_data"
    }
   ],
   "source": [
    "df = pd.DataFrame(columns=['Type','Score'])\n",
    "\n",
    "for i in range(1,1000):\n",
    "    withoutDoubleDownOn12 = testSimulationOfBlackJack(n_hands=100,player_h=[5,7],dealer_c=2, bet=1, hardElvn=False)\n",
    "    withDoubleDownOn12 = testSimulationOfBlackJack(n_hands=100,player_h=[5,7],dealer_c=2, bet=1, hardElvn=True)\n",
    "    df2=pd.DataFrame({\"Type\":[\"Double down on 12,Dealer<3\"],\n",
    "                    \"Score\":[withDoubleDownOn12]})\n",
    "    df3=pd.DataFrame({\"Type\":[\"Not Double down on 12,Dealer<3\"],\n",
    "                    \"Score\":[withoutDoubleDownOn12]})\n",
    "    df=df.append(df3)\n",
    "    df=df.append(df2)\n",
    "\n",
    "import seaborn as sns\n",
    "sns.boxplot(x=df[\"Type\"], y=df[\"Score\"])"
   ]
  },
  {
   "cell_type": "code",
   "execution_count": 564,
   "metadata": {},
   "outputs": [
    {
     "data": {
      "text/plain": [
       "<AxesSubplot:xlabel='Type', ylabel='Score'>"
      ]
     },
     "execution_count": 564,
     "metadata": {},
     "output_type": "execute_result"
    },
    {
     "data": {
      "image/png": "[encoded data removed]",
      "text/plain": [
       "<Figure size 432x288 with 1 Axes>"
      ]
     },
     "metadata": {
      "needs_background": "light"
     },
     "output_type": "display_data"
    }
   ],
   "source": [
    "df = pd.DataFrame(columns=['Type','Score'])\n",
    "\n",
    "for i in range(1,1000):\n",
    "    notSplitting5 = testSimulationOfBlackJack(n_hands=100,player_h=[5,5],dealer_c=None, bet=1, splitFives=False)\n",
    "    splitting5 = testSimulationOfBlackJack(n_hands=100,player_h=[5,5],dealer_c=None, bet=1, splitFives=True)\n",
    "    df2=pd.DataFrame({\"Type\":[\"Always splitting fives\"],\n",
    "                    \"Score\":[splitting5]})\n",
    "    df3=pd.DataFrame({\"Type\":[\"Not Splitting fives\"],\n",
    "                    \"Score\":[notSplitting5]})\n",
    "    df=df.append(df3)\n",
    "    df=df.append(df2)\n",
    "\n",
    "import seaborn as sns\n",
    "sns.boxplot(x=df[\"Type\"], y=df[\"Score\"])"
   ]
  },
  {
   "cell_type": "code",
   "execution_count": 565,
   "metadata": {},
   "outputs": [
    {
     "data": {
      "text/plain": [
       "0.1843"
      ]
     },
     "execution_count": 565,
     "metadata": {},
     "output_type": "execute_result"
    }
   ],
   "source": [
    "house_edge=-100*(simulateBlackJack(n_hands=1_000_000, bet=1) / 1_000_000)\n",
    "house_edge #percentage"
   ]
  },
  {
   "cell_type": "code",
   "execution_count": 570,
   "metadata": {},
   "outputs": [
    {
     "data": {
      "text/plain": [
       "-1678.5"
      ]
     },
     "execution_count": 570,
     "metadata": {},
     "output_type": "execute_result"
    }
   ],
   "source": [
    "earnings=simulateBlackJack(n_hands=1_000_000, bet=1)\n",
    "earnings\n",
    "                           "
   ]
  },
  {
   "cell_type": "code",
   "execution_count": 567,
   "metadata": {},
   "outputs": [
    {
     "data": {
      "text/plain": [
       "-9199.0"
      ]
     },
     "execution_count": 567,
     "metadata": {},
     "output_type": "execute_result"
    }
   ],
   "source": [
    "earnings=simulateBlackJack(n_hands=1_000_000, bet=1,hardElvn=False)\n",
    "earnings"
   ]
  }
 ],
 "metadata": {
  "kernelspec": {
   "display_name": "Python 3",
   "language": "python",
   "name": "python3"
  },
  "language_info": {
   "codemirror_mode": {
    "name": "ipython",
    "version": 3
   },
   "file_extension": ".py",
   "mimetype": "text/x-python",
   "name": "python",
   "nbconvert_exporter": "python",
   "pygments_lexer": "ipython3",
   "version": "3.8.5"
  }
 },
 "nbformat": 4,
 "nbformat_minor": 4
}
